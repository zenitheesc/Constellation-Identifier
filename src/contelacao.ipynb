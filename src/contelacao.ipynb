{
 "cells": [
  {
   "cell_type": "code",
   "execution_count": 1,
   "id": "c5dddbae",
   "metadata": {},
   "outputs": [],
   "source": [
    "import cv2 as cv\n",
    "import numpy as np\n",
    "import os"
   ]
  },
  {
   "cell_type": "code",
   "execution_count": 2,
   "id": "2bb30c93",
   "metadata": {},
   "outputs": [],
   "source": [
    "# print(os.getcwd())\n",
    "\n",
    "imagem = cv.imread('triangulo_astral.jpg') # Lê o arquivo imagem, é só substituir o nome do arquivo.\n",
    "\n",
    "if imagem is not None: # É só pra verificar se o arquivo tá ok!\n",
    "    \n",
    "    cv.imshow('Minha Imagem', imagem)\n",
    "    cv.waitKey(0)\n",
    "    cv.destroyAllWindows()\n",
    "\n",
    "else:\n",
    "    print(\"Erro: Não foi possível carregar a imagem.\")"
   ]
  },
  {
   "cell_type": "code",
   "execution_count": 3,
   "id": "8e4063fa",
   "metadata": {},
   "outputs": [],
   "source": [
    "imagem_cinza = cv.cvtColor(imagem, cv.COLOR_BGR2GRAY) # A imagem fica cinza\n",
    "\n",
    "contraste = 2.0 # Ajustar o valor do contraste conforme necessário\n",
    "imagem_realcada = cv.convertScaleAbs(imagem_cinza, alpha=contraste, beta=0) #realça a imagem\n",
    "\n",
    "# Salvar a imagem realçada\n",
    "# cv.imwrite('orion_realcado.jpg', imagem_realcada)\n",
    "\n",
    "# Mostrar a imagem original e a imagem realçada\n",
    "cv.imshow('Imagem Original', imagem)\n",
    "cv.imshow('Imagem Realçada', imagem_realcada)\n",
    "cv.waitKey(0)\n",
    "cv.destroyAllWindows()"
   ]
  },
  {
   "cell_type": "code",
   "execution_count": 4,
   "id": "c0088c21",
   "metadata": {},
   "outputs": [],
   "source": [
    "valor_limiar = 200 # Parâmetros de luminosidade na imagem\n",
    "valor_máximo = 255\n",
    "\n",
    "retval, imagem_threshold = cv.threshold(imagem_realcada, valor_limiar, valor_máximo, cv.THRESH_BINARY)\n",
    "\n",
    "cv.imshow('Imagem Realçada com Threshold', imagem_threshold)\n",
    "cv.waitKey(0)\n",
    "cv.destroyAllWindows()"
   ]
  },
  {
   "cell_type": "code",
   "execution_count": 5,
   "id": "a9c7a5c2",
   "metadata": {},
   "outputs": [
    {
     "ename": "IndexError",
     "evalue": "invalid index to scalar variable.",
     "output_type": "error",
     "traceback": [
      "\u001b[1;31m---------------------------------------------------------------------------\u001b[0m",
      "\u001b[1;31mIndexError\u001b[0m                                Traceback (most recent call last)",
      "\u001b[1;32m<ipython-input-5-15c0e1f9b723>\u001b[0m in \u001b[0;36m<module>\u001b[1;34m\u001b[0m\n\u001b[0;32m      4\u001b[0m     \u001b[0mcircles\u001b[0m \u001b[1;33m=\u001b[0m \u001b[0mnp\u001b[0m\u001b[1;33m.\u001b[0m\u001b[0muint16\u001b[0m\u001b[1;33m(\u001b[0m\u001b[0mnp\u001b[0m\u001b[1;33m.\u001b[0m\u001b[0maround\u001b[0m\u001b[1;33m(\u001b[0m\u001b[0mcircles\u001b[0m\u001b[1;33m)\u001b[0m\u001b[1;33m)\u001b[0m \u001b[1;31m# Arredonda os valores em 'circles'\u001b[0m\u001b[1;33m\u001b[0m\u001b[1;33m\u001b[0m\u001b[0m\n\u001b[0;32m      5\u001b[0m     \u001b[1;32mfor\u001b[0m \u001b[0mi\u001b[0m \u001b[1;32min\u001b[0m \u001b[0mcircles\u001b[0m\u001b[1;33m[\u001b[0m\u001b[1;36m0\u001b[0m\u001b[1;33m,\u001b[0m \u001b[1;33m:\u001b[0m\u001b[1;33m]\u001b[0m\u001b[1;33m:\u001b[0m\u001b[1;33m\u001b[0m\u001b[1;33m\u001b[0m\u001b[0m\n\u001b[1;32m----> 6\u001b[1;33m         \u001b[0mcv\u001b[0m\u001b[1;33m.\u001b[0m\u001b[0mcircle\u001b[0m\u001b[1;33m(\u001b[0m\u001b[0mimagem_threshold\u001b[0m\u001b[1;33m,\u001b[0m \u001b[1;33m(\u001b[0m\u001b[0mi\u001b[0m\u001b[1;33m[\u001b[0m\u001b[1;36m0\u001b[0m\u001b[1;33m]\u001b[0m\u001b[1;33m,\u001b[0m \u001b[0mi\u001b[0m\u001b[1;33m[\u001b[0m\u001b[1;36m1\u001b[0m\u001b[1;33m]\u001b[0m\u001b[1;33m)\u001b[0m\u001b[1;33m,\u001b[0m \u001b[0mi\u001b[0m\u001b[1;33m[\u001b[0m\u001b[1;36m2\u001b[0m\u001b[1;33m]\u001b[0m\u001b[1;33m,\u001b[0m \u001b[1;33m(\u001b[0m\u001b[1;36m0\u001b[0m\u001b[1;33m,\u001b[0m \u001b[1;36m255\u001b[0m\u001b[1;33m,\u001b[0m \u001b[1;36m0\u001b[0m\u001b[1;33m)\u001b[0m\u001b[1;33m,\u001b[0m \u001b[1;36m2\u001b[0m\u001b[1;33m)\u001b[0m\u001b[1;33m\u001b[0m\u001b[1;33m\u001b[0m\u001b[0m\n\u001b[0m\u001b[0;32m      7\u001b[0m \u001b[1;33m\u001b[0m\u001b[0m\n\u001b[0;32m      8\u001b[0m         \u001b[1;32mfor\u001b[0m \u001b[0mj\u001b[0m \u001b[1;32min\u001b[0m \u001b[0mcircles\u001b[0m\u001b[1;33m[\u001b[0m\u001b[1;36m0\u001b[0m\u001b[1;33m,\u001b[0m \u001b[1;33m:\u001b[0m\u001b[1;33m]\u001b[0m\u001b[1;33m:\u001b[0m\u001b[1;33m\u001b[0m\u001b[1;33m\u001b[0m\u001b[0m\n",
      "\u001b[1;31mIndexError\u001b[0m: invalid index to scalar variable."
     ]
    }
   ],
   "source": [
    "circles = cv.HoughCircles(imagem_threshold, cv.HOUGH_GRADIENT, 1, 50, 50, 30, 10, 30) # Cria círculos em torno das estrelas\n",
    "\n",
    "if circles is not None:\n",
    "    circles = np.uint16(np.around(circles)) # Arredonda os valores em 'circles'\n",
    "    for i in circles[0, :]:\n",
    "        cv.circle(imagem_threshold, (i[0], i[1]), i[2], (0, 255, 0), 2)\n",
    "        \n",
    "        for j in circles[0, :]:\n",
    "            if i[0] != j[0] and i[1] != j[1]:\n",
    "                cv.line(imagem_threshold, (i[0], i[1]), (j[0], j[1]), (255, 0, 0), 2) # Desenha linhas entre os círculos\n",
    "                                                                                      # Tomando cuidado para não repetí-los\n",
    "cv.imwrite('constelacao_final.jpg', imagem_threshold)\n",
    "\n",
    "cv.imshow('Imagem Final', imagem_threshold)\n",
    "cv.waitKey(0)\n",
    "cv.destroyAllWindows()"
   ]
  },
  {
   "cell_type": "code",
   "execution_count": null,
   "id": "9e774c11",
   "metadata": {},
   "outputs": [],
   "source": [
    "print(circles)"
   ]
  },
  {
   "cell_type": "code",
   "execution_count": null,
   "id": "fdc931e4",
   "metadata": {},
   "outputs": [],
   "source": []
  }
 ],
 "metadata": {
  "kernelspec": {
   "display_name": "Python 3",
   "language": "python",
   "name": "python3"
  },
  "language_info": {
   "codemirror_mode": {
    "name": "ipython",
    "version": 3
   },
   "file_extension": ".py",
   "mimetype": "text/x-python",
   "name": "python",
   "nbconvert_exporter": "python",
   "pygments_lexer": "ipython3",
   "version": "3.8.8"
  }
 },
 "nbformat": 4,
 "nbformat_minor": 5
}
